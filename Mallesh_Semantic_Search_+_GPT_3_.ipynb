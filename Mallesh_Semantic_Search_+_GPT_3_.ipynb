{
  "nbformat": 4,
  "nbformat_minor": 0,
  "metadata": {
    "colab": {
      "provenance": [],
      "include_colab_link": true
    },
    "kernelspec": {
      "name": "python3",
      "display_name": "Python 3"
    },
    "language_info": {
      "name": "python"
    }
  },
  "cells": [
    {
      "cell_type": "markdown",
      "metadata": {
        "id": "view-in-github",
        "colab_type": "text"
      },
      "source": [
        "<a href=\"https://colab.research.google.com/github/Darshu21/dars/blob/main/Mallesh_Semantic_Search_%2B_GPT_3_.ipynb\" target=\"_parent\"><img src=\"https://colab.research.google.com/assets/colab-badge.svg\" alt=\"Open In Colab\"/></a>"
      ]
    },
    {
      "cell_type": "code",
      "source": [
        "!pip install sentence_transformers pinecone-client openai -q"
      ],
      "metadata": {
        "id": "RU4Phx0n6TEM"
      },
      "execution_count": null,
      "outputs": []
    },
    {
      "cell_type": "code",
      "source": [
        "import pinecone\n",
        "from sentence_transformers import SentenceTransformer,util\n",
        "import requests\n",
        "from bs4 import BeautifulSoup\n",
        "model = SentenceTransformer('all-MiniLM-L6-v2') #384 dimensional"
      ],
      "metadata": {
        "id": "gxSbuLRY6NpP"
      },
      "execution_count": null,
      "outputs": []
    },
    {
      "cell_type": "code",
      "source": [
        "model.encode(\"Ronaldo began his senior career with Sporting CP, before signing with Manchester United in 2003, winning the FA Cup in his first season. He would also go on to win three consecutive Premier League titles, the Champions\").tolist()"
      ],
      "metadata": {
        "id": "CWsyO-1JHkMZ"
      },
      "execution_count": null,
      "outputs": []
    },
    {
      "cell_type": "code",
      "source": [
        "def get_html_content(url):\n",
        "    response = requests.get(url)\n",
        "    return response.content"
      ],
      "metadata": {
        "id": "3GUmc3uh6jP9"
      },
      "execution_count": null,
      "outputs": []
    },
    {
      "cell_type": "code",
      "source": [
        "def get_plain_text(html_content):\n",
        "    soup = BeautifulSoup(html_content, 'html.parser')\n",
        "    for script in soup([\"script\"]):\n",
        "        script.extract()\n",
        "    return soup.get_text()"
      ],
      "metadata": {
        "id": "Ao498Caz6mHG"
      },
      "execution_count": null,
      "outputs": []
    },
    {
      "cell_type": "code",
      "source": [
        "def split_text_into_chunks(plain_text, max_chars=2000):\n",
        "    text_chunks = []\n",
        "    current_chunk = \"\"\n",
        "    for line in plain_text.split(\"\\n\"):\n",
        "        if len(current_chunk) + len(line) + 1 <= max_chars:\n",
        "            current_chunk += line + \" \"\n",
        "        else:\n",
        "            text_chunks.append(current_chunk.strip())\n",
        "            current_chunk = line + \" \"\n",
        "    if current_chunk:\n",
        "        text_chunks.append(current_chunk.strip())\n",
        "    return text_chunks"
      ],
      "metadata": {
        "id": "R7-yjzAI6rkC"
      },
      "execution_count": null,
      "outputs": []
    },
    {
      "cell_type": "code",
      "execution_count": null,
      "metadata": {
        "id": "7CoOj5LCPbQl"
      },
      "outputs": [],
      "source": [
        "def scrape_text_from_url(url, max_chars=2000):\n",
        "    html_content = get_html_content(url)\n",
        "    plain_text = get_plain_text(html_content)\n",
        "    text_chunks = split_text_into_chunks(plain_text, max_chars)\n",
        "    return text_chunks"
      ]
    },
    {
      "cell_type": "code",
      "source": [
        "url = input(\"Enter the URL to scrape text from: \")\n",
        "plain_text_chunks = scrape_text_from_url(url)\n",
        "print(plain_text_chunks)"
      ],
      "metadata": {
        "id": "m_nQbQuX6y4p"
      },
      "execution_count": null,
      "outputs": []
    },
    {
      "cell_type": "code",
      "source": [
        "len(plain_text_chunks)"
      ],
      "metadata": {
        "colab": {
          "base_uri": "https://localhost:8080/"
        },
        "id": "ZYRzwr0qPiIx",
        "outputId": "8d3b67d4-4c8a-4b2f-94fb-86c653d57c82"
      },
      "execution_count": null,
      "outputs": [
        {
          "output_type": "execute_result",
          "data": {
            "text/plain": [
              "104"
            ]
          },
          "metadata": {},
          "execution_count": 10
        }
      ]
    },
    {
      "cell_type": "code",
      "source": [
        "plain_text_chunks[10]"
      ],
      "metadata": {
        "colab": {
          "base_uri": "https://localhost:8080/",
          "height": 261
        },
        "id": "ZjHzpxPCRB2D",
        "outputId": "d6ef4cad-c743-4a83-a7b2-6e15e67da373"
      },
      "execution_count": null,
      "outputs": [
        {
          "output_type": "execute_result",
          "data": {
            "text/plain": [
              "'Raj Singh Dungarpur is credited for the selection of Tendulkar for the Indian tour of Pakistan in late 1989,[67] after one first class season.[68] The Indian selection committee had shown interest in selecting Tendulkar for the tour of the West Indies held earlier that year, but eventually did not select him, as they did not want him to be exposed to the dominant fast bowlers of the West Indies so early in his career. Tendulkar made his Test debut against Pakistan in Karachi in November 1989 aged 16 years and 205 days. He made 15 runs, being bowled by Waqar Younis, who also made his debut in that match, but was noted for how he handled numerous blows to his body at the hands of the Pakistani pace attack.[69] In the fourth and final Test in Sialkot, he was hit on the nose by a bouncer bowled by Younis, but he declined medical assistance and continued to bat even as he gushed blood from it.[70] In a 20-over exhibition game in Peshawar, held in parallel with the bilateral series, Tendulkar made 53 runs off 18 balls, including an over in which he scored 27 runs (6, 4, 0, 6, 6, 6) off leg-spinner Abdul Qadir.[71] This was later called \"one of the best innings I have seen\" by the then Indian captain Krishnamachari Srikkanth.[72] In all, he scored 215 runs at an average of 35.83 in the Test series, and was dismissed without scoring a run in the only One Day International (ODI) he played.[73][74] Thus Sachin Tendulkar became the youngest player to debut for India in Tests at the age of 16 years and 205 days and also the youngest player to debut for India in ODIs at the age of 16 years and 238 days.[75][76]'"
            ],
            "application/vnd.google.colaboratory.intrinsic+json": {
              "type": "string"
            }
          },
          "metadata": {},
          "execution_count": 11
        }
      ]
    },
    {
      "cell_type": "code",
      "source": [
        "pinecone = Pinecone(api_key=\"pcsk_4Rf1yT_QcV64qTeumHNiCzJKNkDeLSH3gHkDYt3XEh55pZakRjHHUu4uoVT3pQrsctWojz\", environment=\"us-east-1\")\n",
        "index = pinecone.Index(\"darshu\")\n",
        "index"
      ],
      "metadata": {
        "colab": {
          "base_uri": "https://localhost:8080/"
        },
        "id": "viHnRkPcSzeP",
        "outputId": "6abff7a5-124c-43f5-cfcb-dde1decf4275"
      },
      "execution_count": 27,
      "outputs": [
        {
          "output_type": "execute_result",
          "data": {
            "text/plain": [
              "<pinecone.data.index.Index at 0x7d9897d09e70>"
            ]
          },
          "metadata": {},
          "execution_count": 27
        }
      ]
    },
    {
      "cell_type": "code",
      "source": [
        "index.describe_index_stats()"
      ],
      "metadata": {
        "colab": {
          "base_uri": "https://localhost:8080/"
        },
        "id": "0hqYAfQHfdQ9",
        "outputId": "2b338dfa-96f0-4a51-e8b1-071cca93a174"
      },
      "execution_count": 28,
      "outputs": [
        {
          "output_type": "execute_result",
          "data": {
            "text/plain": [
              "{'dimension': 384,\n",
              " 'index_fullness': 0.0,\n",
              " 'namespaces': {},\n",
              " 'total_vector_count': 0}"
            ]
          },
          "metadata": {},
          "execution_count": 28
        }
      ]
    },
    {
      "cell_type": "code",
      "source": [
        "def addData(corpusData,url):\n",
        "    id  = index.describe_index_stats()['total_vector_count']\n",
        "    for i in range(len(corpusData)):\n",
        "        chunk=corpusData[i]\n",
        "        chunkInfo=(str(id+i),\n",
        "                model.encode(chunk).tolist(),\n",
        "                {'title': url,'context': chunk})\n",
        "        index.upsert(vectors=[chunkInfo])"
      ],
      "metadata": {
        "id": "yShks1P8S10Z"
      },
      "execution_count": 29,
      "outputs": []
    },
    {
      "cell_type": "code",
      "source": [
        "plain_text_chunks[10]"
      ],
      "metadata": {
        "colab": {
          "base_uri": "https://localhost:8080/",
          "height": 192
        },
        "id": "-ff-7Jb-H7bW",
        "outputId": "9f760b2f-ba9f-4ba4-93b4-c7165104e496"
      },
      "execution_count": 30,
      "outputs": [
        {
          "output_type": "execute_result",
          "data": {
            "text/plain": [
              "'ESPN ranked Kohli among the world\\'s most renowned athletes.[74][75] In 2014, American Appraisal conducted an evaluation of Kohli\\'s brand value and determined it to be $56.4 million, placing him fourth on the list of India\\'s most valued celebrity brands.[76] In October 2016 by Duff & Phelps, Kohli\\'s brand worth had increased to $92 million, second only to that of Bollywood actor Shah Rukh Khan.[77] In 2017, Kohli was recognized by Forbes as the seventh \"Most Valuable Brand among Athletes\", with a brand estimation of $14.5 million.[78] By September of the same year, Kohli had endorsement agreements with 17 distinct brands, and he announced that he would only endorse products that he personally uses and believes in.[79] The following year, he was featured on Time magazine\\'s annual list of the 100 most influential people in the world.[80] In 2019, Kohli was the only cricketer included in Forbes\\' list of \"World\\'s 100 Highest-Paid Athletes\". He was ranked 100th on the list, with earnings estimated at $25 million, with $21 million being procured through endorsements, and the remainder from salary and tournament winnings.[81] Furthermore, in March 2019, Kohli was named the brand ambassador of the mobile esports platform, Mobile Premier League.[82] Kohli\\'s earning potential continued to climb, and in 2020, he attained the 66th spot in Forbes compilation of the top 100 highest-paid athletes in the world for the year 2020, with estimated earnings exceeding $26 million.[83] In April 2021, Vivo appointed Kohli as their brand ambassador ahead of the Indian Premier League.[84]'"
            ],
            "application/vnd.google.colaboratory.intrinsic+json": {
              "type": "string"
            }
          },
          "metadata": {},
          "execution_count": 30
        }
      ]
    },
    {
      "cell_type": "code",
      "source": [
        "addData(plain_text_chunks,url)"
      ],
      "metadata": {
        "id": "rx10Okg1fH0b"
      },
      "execution_count": 31,
      "outputs": []
    },
    {
      "cell_type": "code",
      "source": [
        "def find_match(query,k):\n",
        "    query_em = model.encode(query).tolist()\n",
        "    result = index.query(query_em, top_k=k, includeMetadata=True)\n",
        "\n",
        "    return [result['matches'][i]['metadata']['title'] for i in range(k)],[result['matches'][i]['metadata']['context'] for i in range(k)]"
      ],
      "metadata": {
        "id": "B51s4xGkggXQ"
      },
      "execution_count": 33,
      "outputs": []
    },
    {
      "cell_type": "code",
      "source": [
        "find_match(query=\"What awards was virat awarded with?\",k=1)"
      ],
      "metadata": {
        "colab": {
          "base_uri": "https://localhost:8080/",
          "height": 599
        },
        "id": "JYkUoNDIg1Qo",
        "outputId": "5f34fa47-12b4-41a8-fc6f-0cc9cf72c924"
      },
      "execution_count": 36,
      "outputs": [
        {
          "output_type": "error",
          "ename": "ValueError",
          "evalue": "The argument order for `query()` has changed; please use keyword arguments instead of positional arguments. Example: index.query(vector=[0.1, 0.2, 0.3], top_k=10, namespace='my_namespace')",
          "traceback": [
            "\u001b[0;31m---------------------------------------------------------------------------\u001b[0m",
            "\u001b[0;31mValueError\u001b[0m                                Traceback (most recent call last)",
            "\u001b[0;32m<ipython-input-36-d2a9a3af24c7>\u001b[0m in \u001b[0;36m<cell line: 1>\u001b[0;34m()\u001b[0m\n\u001b[0;32m----> 1\u001b[0;31m \u001b[0mfind_match\u001b[0m\u001b[0;34m(\u001b[0m\u001b[0mquery\u001b[0m\u001b[0;34m=\u001b[0m\u001b[0;34m\"What awards was virat awarded with?\"\u001b[0m\u001b[0;34m,\u001b[0m\u001b[0mk\u001b[0m\u001b[0;34m=\u001b[0m\u001b[0;36m1\u001b[0m\u001b[0;34m)\u001b[0m\u001b[0;34m\u001b[0m\u001b[0;34m\u001b[0m\u001b[0m\n\u001b[0m",
            "\u001b[0;32m<ipython-input-33-48380dbc1beb>\u001b[0m in \u001b[0;36mfind_match\u001b[0;34m(query, k)\u001b[0m\n\u001b[1;32m      1\u001b[0m \u001b[0;32mdef\u001b[0m \u001b[0mfind_match\u001b[0m\u001b[0;34m(\u001b[0m\u001b[0mquery\u001b[0m\u001b[0;34m,\u001b[0m\u001b[0mk\u001b[0m\u001b[0;34m)\u001b[0m\u001b[0;34m:\u001b[0m\u001b[0;34m\u001b[0m\u001b[0;34m\u001b[0m\u001b[0m\n\u001b[1;32m      2\u001b[0m     \u001b[0mquery_em\u001b[0m \u001b[0;34m=\u001b[0m \u001b[0mmodel\u001b[0m\u001b[0;34m.\u001b[0m\u001b[0mencode\u001b[0m\u001b[0;34m(\u001b[0m\u001b[0mquery\u001b[0m\u001b[0;34m)\u001b[0m\u001b[0;34m.\u001b[0m\u001b[0mtolist\u001b[0m\u001b[0;34m(\u001b[0m\u001b[0;34m)\u001b[0m\u001b[0;34m\u001b[0m\u001b[0;34m\u001b[0m\u001b[0m\n\u001b[0;32m----> 3\u001b[0;31m     \u001b[0mresult\u001b[0m \u001b[0;34m=\u001b[0m \u001b[0mindex\u001b[0m\u001b[0;34m.\u001b[0m\u001b[0mquery\u001b[0m\u001b[0;34m(\u001b[0m\u001b[0mquery_em\u001b[0m\u001b[0;34m,\u001b[0m \u001b[0mtop_k\u001b[0m\u001b[0;34m=\u001b[0m\u001b[0mk\u001b[0m\u001b[0;34m,\u001b[0m \u001b[0mincludeMetadata\u001b[0m\u001b[0;34m=\u001b[0m\u001b[0;32mTrue\u001b[0m\u001b[0;34m)\u001b[0m\u001b[0;34m\u001b[0m\u001b[0;34m\u001b[0m\u001b[0m\n\u001b[0m\u001b[1;32m      4\u001b[0m \u001b[0;34m\u001b[0m\u001b[0m\n\u001b[1;32m      5\u001b[0m     \u001b[0;32mreturn\u001b[0m \u001b[0;34m[\u001b[0m\u001b[0mresult\u001b[0m\u001b[0;34m[\u001b[0m\u001b[0;34m'matches'\u001b[0m\u001b[0;34m]\u001b[0m\u001b[0;34m[\u001b[0m\u001b[0mi\u001b[0m\u001b[0;34m]\u001b[0m\u001b[0;34m[\u001b[0m\u001b[0;34m'metadata'\u001b[0m\u001b[0;34m]\u001b[0m\u001b[0;34m[\u001b[0m\u001b[0;34m'title'\u001b[0m\u001b[0;34m]\u001b[0m \u001b[0;32mfor\u001b[0m \u001b[0mi\u001b[0m \u001b[0;32min\u001b[0m \u001b[0mrange\u001b[0m\u001b[0;34m(\u001b[0m\u001b[0mk\u001b[0m\u001b[0;34m)\u001b[0m\u001b[0;34m]\u001b[0m\u001b[0;34m,\u001b[0m\u001b[0;34m[\u001b[0m\u001b[0mresult\u001b[0m\u001b[0;34m[\u001b[0m\u001b[0;34m'matches'\u001b[0m\u001b[0;34m]\u001b[0m\u001b[0;34m[\u001b[0m\u001b[0mi\u001b[0m\u001b[0;34m]\u001b[0m\u001b[0;34m[\u001b[0m\u001b[0;34m'metadata'\u001b[0m\u001b[0;34m]\u001b[0m\u001b[0;34m[\u001b[0m\u001b[0;34m'context'\u001b[0m\u001b[0;34m]\u001b[0m \u001b[0;32mfor\u001b[0m \u001b[0mi\u001b[0m \u001b[0;32min\u001b[0m \u001b[0mrange\u001b[0m\u001b[0;34m(\u001b[0m\u001b[0mk\u001b[0m\u001b[0;34m)\u001b[0m\u001b[0;34m]\u001b[0m\u001b[0;34m\u001b[0m\u001b[0;34m\u001b[0m\u001b[0m\n",
            "\u001b[0;32m/usr/local/lib/python3.10/dist-packages/pinecone/utils/error_handling.py\u001b[0m in \u001b[0;36minner_func\u001b[0;34m(*args, **kwargs)\u001b[0m\n\u001b[1;32m      9\u001b[0m     \u001b[0;32mdef\u001b[0m \u001b[0minner_func\u001b[0m\u001b[0;34m(\u001b[0m\u001b[0;34m*\u001b[0m\u001b[0margs\u001b[0m\u001b[0;34m,\u001b[0m \u001b[0;34m**\u001b[0m\u001b[0mkwargs\u001b[0m\u001b[0;34m)\u001b[0m\u001b[0;34m:\u001b[0m\u001b[0;34m\u001b[0m\u001b[0;34m\u001b[0m\u001b[0m\n\u001b[1;32m     10\u001b[0m         \u001b[0;32mtry\u001b[0m\u001b[0;34m:\u001b[0m\u001b[0;34m\u001b[0m\u001b[0;34m\u001b[0m\u001b[0m\n\u001b[0;32m---> 11\u001b[0;31m             \u001b[0;32mreturn\u001b[0m \u001b[0mfunc\u001b[0m\u001b[0;34m(\u001b[0m\u001b[0;34m*\u001b[0m\u001b[0margs\u001b[0m\u001b[0;34m,\u001b[0m \u001b[0;34m**\u001b[0m\u001b[0mkwargs\u001b[0m\u001b[0;34m)\u001b[0m\u001b[0;34m\u001b[0m\u001b[0;34m\u001b[0m\u001b[0m\n\u001b[0m\u001b[1;32m     12\u001b[0m         \u001b[0;32mexcept\u001b[0m \u001b[0mMaxRetryError\u001b[0m \u001b[0;32mas\u001b[0m \u001b[0me\u001b[0m\u001b[0;34m:\u001b[0m\u001b[0;34m\u001b[0m\u001b[0;34m\u001b[0m\u001b[0m\n\u001b[1;32m     13\u001b[0m             \u001b[0;32mif\u001b[0m \u001b[0misinstance\u001b[0m\u001b[0;34m(\u001b[0m\u001b[0me\u001b[0m\u001b[0;34m.\u001b[0m\u001b[0mreason\u001b[0m\u001b[0;34m,\u001b[0m \u001b[0mProtocolError\u001b[0m\u001b[0;34m)\u001b[0m\u001b[0;34m:\u001b[0m\u001b[0;34m\u001b[0m\u001b[0;34m\u001b[0m\u001b[0m\n",
            "\u001b[0;32m/usr/local/lib/python3.10/dist-packages/pinecone/data/index.py\u001b[0m in \u001b[0;36mquery\u001b[0;34m(self, top_k, vector, id, namespace, filter, include_values, include_metadata, sparse_vector, *args, **kwargs)\u001b[0m\n\u001b[1;32m    404\u001b[0m \u001b[0;34m\u001b[0m\u001b[0m\n\u001b[1;32m    405\u001b[0m         \u001b[0;32mif\u001b[0m \u001b[0mlen\u001b[0m\u001b[0;34m(\u001b[0m\u001b[0margs\u001b[0m\u001b[0;34m)\u001b[0m \u001b[0;34m>\u001b[0m \u001b[0;36m0\u001b[0m\u001b[0;34m:\u001b[0m\u001b[0;34m\u001b[0m\u001b[0;34m\u001b[0m\u001b[0m\n\u001b[0;32m--> 406\u001b[0;31m             raise ValueError(\n\u001b[0m\u001b[1;32m    407\u001b[0m                 \u001b[0;34m\"The argument order for `query()` has changed; please use keyword arguments instead of positional arguments. Example: index.query(vector=[0.1, 0.2, 0.3], top_k=10, namespace='my_namespace')\"\u001b[0m\u001b[0;34m\u001b[0m\u001b[0;34m\u001b[0m\u001b[0m\n\u001b[1;32m    408\u001b[0m             )\n",
            "\u001b[0;31mValueError\u001b[0m: The argument order for `query()` has changed; please use keyword arguments instead of positional arguments. Example: index.query(vector=[0.1, 0.2, 0.3], top_k=10, namespace='my_namespace')"
          ]
        }
      ]
    },
    {
      "cell_type": "markdown",
      "source": [
        "###Prompt\n",
        "Answer the question as truthfully as possible using the provided context, and if the answer is not contained within the text and requires some latest information to be updated, print 'Sorry Not Sufficient context to answer query' \\n\"\n",
        "    return header + context + \"\\n\\n\" + query + \"\\n\""
      ],
      "metadata": {
        "id": "ZKikjxJ17-wK"
      }
    },
    {
      "cell_type": "code",
      "source": [
        "import openai\n",
        "openai.api_key=\"openai key\"\n",
        "def create_prompt(context,query):\n",
        "    header = \"Answer the question as truthfully as possible using the provided context, and if the answer is not contained within the text and requires some latest information to be updated, print 'Sorry Not Sufficient context to answer query' \\n\"\n",
        "    return header + context + \"\\n\\n\" + query + \"\\n\"\n",
        "\n",
        "def generate_answer(prompt):\n",
        "    response = openai.Completion.create(\n",
        "    model=\"text-davinci-003\",\n",
        "    prompt=prompt,\n",
        "    temperature=0,\n",
        "    max_tokens=256,\n",
        "    top_p=1,\n",
        "    frequency_penalty=0,\n",
        "    presence_penalty=0,\n",
        "    stop = [' END']\n",
        "    )\n",
        "    return (response.choices[0].text).strip()"
      ],
      "metadata": {
        "id": "b0TJSLqthbtz"
      },
      "execution_count": 37,
      "outputs": []
    },
    {
      "cell_type": "code",
      "source": [
        "query = \"Who is Sachin?\"\n",
        "docs,res = find_match(query,1)"
      ],
      "metadata": {
        "id": "s3H-OHM4g47o"
      },
      "execution_count": null,
      "outputs": []
    },
    {
      "cell_type": "code",
      "source": [
        "res"
      ],
      "metadata": {
        "colab": {
          "base_uri": "https://localhost:8080/"
        },
        "id": "k92EZhmBJXNJ",
        "outputId": "322d42bf-7486-49a1-81bb-ac97f1db2e19"
      },
      "execution_count": null,
      "outputs": [
        {
          "output_type": "execute_result",
          "data": {
            "text/plain": [
              "['^ \"Sachin Tendulkar: Who is he?\". India Today. 3 April 2012. Retrieved 30 August 2021.  ^ Ghosh, Avijit (5 January 2008). \"Now, Oz-speak about Brahmin dominance!\". The Times of India. Retrieved 30 August 2021.  ^ Thani, L.; Mishra, R. (1999). Sensational Sachin. Diamond Pocket Books. p.\\xa0113. ISBN\\xa081-288-2573-9. His mother Rajni Tendulkar worked in L.I.C.  ^ \"Ajit Dotes on Sachin, Who Could\\'ve Guessed They\\'re Half-Brothers!\". The Quint. Retrieved 2 September 2018.  ^ \"This man sacrificed his cricket, career for Sachin Tendulkar\". Asianet Newsable.  ^ \"38 special facts about Sachin Tendulkar – 3\". MSN. 16 March 2012. Archived from the original on 6 June 2013. Retrieved 18 December 2012.  ^ a b \"\\'कांबली बहुत गुस्सैल है,\\' सचिन ने KBC में अमिताभ को सुनाई थी दोस्त की कहानी; देखें Video\". Jansatta (in Hindi). Retrieved 24 December 2021.  ^ \"38 special facts about Sachin Tendulkar – 2\". MSN. 16 March 2012. Archived from the original on 6 June 2013. Retrieved 18 December 2012.  ^ \"Throwback to Sachin Tendulkar\\'s Comments About Vinod Kambli on KBC That Surprised Amitabh Bachchan\". www.news18.com. Retrieved 24 December 2021.  ^ \"Reminiscing old days: Sachin Tendulkar on late coach Ramakant Achrekar\". in.com.[dead link]  ^ Pandey, Kirti Phadtare (25 May 2017). \"Ajit Dotes on Sachin, Who Could\\'ve Guessed They\\'re Half-Brothers!\". TheQuint. Retrieved 24 December 2021.  ^ a b c d e Gulu Ezekiel. \"HTCricket.com: A special HTCricket section celebrating Sachin Tendulkar\\'s 100th Test\". Hindustan Times. Archived from the original on 25 October 2012. Retrieved 18 December 2012.  ^ Baliga, Linah (1 April 2011). \"Shivaji Park prays for famous son\". The Times of India. Times News Network. Archived from the original on 1 May 2013.  ^ Somak Sen (17 October 2008). \"Sachin Tendulkar: The last word in cricket\". Merinews. Archived from the original on 29 January 2013. Retrieved 3 June 2009.']"
            ]
          },
          "metadata": {},
          "execution_count": 33
        }
      ]
    },
    {
      "cell_type": "code",
      "source": [
        "context= \"\\n\\n\".join(res)\n",
        "prompt = create_prompt(context,query)\n",
        "print(prompt)"
      ],
      "metadata": {
        "colab": {
          "base_uri": "https://localhost:8080/"
        },
        "id": "UVJGPpt4hQ8-",
        "outputId": "e76ca4ac-9743-4130-ba79-799b5cf6b90d"
      },
      "execution_count": null,
      "outputs": [
        {
          "output_type": "stream",
          "name": "stdout",
          "text": [
            "Answer the question as truthfully as possible using the provided context, and if the answer is not contained within the text and requires some latest information to be updated, print 'Sorry Not Sufficient context to answer query' \n",
            "^ \"Sachin Tendulkar: Who is he?\". India Today. 3 April 2012. Retrieved 30 August 2021.  ^ Ghosh, Avijit (5 January 2008). \"Now, Oz-speak about Brahmin dominance!\". The Times of India. Retrieved 30 August 2021.  ^ Thani, L.; Mishra, R. (1999). Sensational Sachin. Diamond Pocket Books. p. 113. ISBN 81-288-2573-9. His mother Rajni Tendulkar worked in L.I.C.  ^ \"Ajit Dotes on Sachin, Who Could've Guessed They're Half-Brothers!\". The Quint. Retrieved 2 September 2018.  ^ \"This man sacrificed his cricket, career for Sachin Tendulkar\". Asianet Newsable.  ^ \"38 special facts about Sachin Tendulkar – 3\". MSN. 16 March 2012. Archived from the original on 6 June 2013. Retrieved 18 December 2012.  ^ a b \"'कांबली बहुत गुस्सैल है,' सचिन ने KBC में अमिताभ को सुनाई थी दोस्त की कहानी; देखें Video\". Jansatta (in Hindi). Retrieved 24 December 2021.  ^ \"38 special facts about Sachin Tendulkar – 2\". MSN. 16 March 2012. Archived from the original on 6 June 2013. Retrieved 18 December 2012.  ^ \"Throwback to Sachin Tendulkar's Comments About Vinod Kambli on KBC That Surprised Amitabh Bachchan\". www.news18.com. Retrieved 24 December 2021.  ^ \"Reminiscing old days: Sachin Tendulkar on late coach Ramakant Achrekar\". in.com.[dead link]  ^ Pandey, Kirti Phadtare (25 May 2017). \"Ajit Dotes on Sachin, Who Could've Guessed They're Half-Brothers!\". TheQuint. Retrieved 24 December 2021.  ^ a b c d e Gulu Ezekiel. \"HTCricket.com: A special HTCricket section celebrating Sachin Tendulkar's 100th Test\". Hindustan Times. Archived from the original on 25 October 2012. Retrieved 18 December 2012.  ^ Baliga, Linah (1 April 2011). \"Shivaji Park prays for famous son\". The Times of India. Times News Network. Archived from the original on 1 May 2013.  ^ Somak Sen (17 October 2008). \"Sachin Tendulkar: The last word in cricket\". Merinews. Archived from the original on 29 January 2013. Retrieved 3 June 2009.\n",
            "\n",
            "Who is Sachin?\n",
            "\n"
          ]
        }
      ]
    },
    {
      "cell_type": "code",
      "source": [
        "reply = generate_answer(prompt)\n",
        "print(reply)"
      ],
      "metadata": {
        "colab": {
          "base_uri": "https://localhost:8080/"
        },
        "id": "wXCBNxRIiZQP",
        "outputId": "3b01ff34-aaa9-4cd0-c6f4-0f6b6373e757"
      },
      "execution_count": null,
      "outputs": [
        {
          "output_type": "stream",
          "name": "stdout",
          "text": [
            "Sachin Tendulkar is an Indian cricketer widely regarded as one of the greatest batsmen in the history of cricket. He is the highest run scorer of all time in International cricket. He is the only player to have scored one hundred international centuries, the first batsman to score a double century in a One Day International, and the only player to complete more than 30,000 runs in international cricket.\n"
          ]
        }
      ]
    },
    {
      "cell_type": "code",
      "source": [],
      "metadata": {
        "id": "WcLMjYeZJfW6"
      },
      "execution_count": null,
      "outputs": []
    }
  ]
}